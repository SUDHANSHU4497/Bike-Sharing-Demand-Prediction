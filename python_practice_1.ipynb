{
  "nbformat": 4,
  "nbformat_minor": 0,
  "metadata": {
    "colab": {
      "name": "python practice 1.ipynb",
      "provenance": [],
      "authorship_tag": "ABX9TyN+lqfSdLv1k42GpHHVTTeF",
      "include_colab_link": true
    },
    "kernelspec": {
      "name": "python3",
      "display_name": "Python 3"
    },
    "language_info": {
      "name": "python"
    }
  },
  "cells": [
    {
      "cell_type": "markdown",
      "metadata": {
        "id": "view-in-github",
        "colab_type": "text"
      },
      "source": [
        "<a href=\"https://colab.research.google.com/github/SUDHANSHU4497/Bike-Sharing-Demand-Prediction/blob/main/python_practice_1.ipynb\" target=\"_parent\"><img src=\"https://colab.research.google.com/assets/colab-badge.svg\" alt=\"Open In Colab\"/></a>"
      ]
    },
    {
      "cell_type": "markdown",
      "source": [
        "if statement"
      ],
      "metadata": {
        "id": "NX-DMmQTltG9"
      }
    },
    {
      "cell_type": "code",
      "source": [
        "amount=int(input(\"Enter amount: \")) \n",
        "if amount<1000: \n",
        "    discount=amount*0.05 \n",
        "    print (\"Discount\",discount) \n",
        "else: \n",
        "    discount=amount*0.10 \n",
        "    print (\"Discount\",discount) \n",
        "     \n",
        "print (\"Net payable:\",amount-discount) "
      ],
      "metadata": {
        "colab": {
          "base_uri": "https://localhost:8080/"
        },
        "id": "gak3yrNYnhqI",
        "outputId": "d8cb4aa4-002b-46d9-e69b-668a943aa8d4"
      },
      "execution_count": 5,
      "outputs": [
        {
          "output_type": "stream",
          "name": "stdout",
          "text": [
            "Enter amount: 500\n",
            "Discount 25.0\n",
            "Net payable: 475.0\n"
          ]
        }
      ]
    },
    {
      "cell_type": "code",
      "execution_count": 10,
      "metadata": {
        "colab": {
          "base_uri": "https://localhost:8080/"
        },
        "id": "nC21oTKFjKLu",
        "outputId": "ab78c5fb-682e-44b6-dba7-0fb6eff7140d"
      },
      "outputs": [
        {
          "output_type": "stream",
          "name": "stdout",
          "text": [
            "enter amount20000\n",
            "10000.0\n"
          ]
        }
      ],
      "source": [
        "time=5\n",
        "amount=int(input('enter amount'))\n",
        "if amount < 10000:\n",
        "  rate=5\n",
        "  si=(amount*rate*time)/100\n",
        "else:\n",
        "  rate=10\n",
        "  si=(amount*rate*time)/100\n",
        "print(si)"
      ]
    },
    {
      "cell_type": "code",
      "source": [
        "# divisibility check of 6\n",
        "\n",
        "x=int(input('enter a number'))\n",
        "if x%2==0:\n",
        "  print('number divisible by 2' )\n",
        "  if x%3==0:\n",
        "    print('number divisible by 3 and 6' )\n",
        "else:\n",
        "  print('notdivisible ' )\n"
      ],
      "metadata": {
        "colab": {
          "base_uri": "https://localhost:8080/"
        },
        "id": "wJsE67Cbo0V6",
        "outputId": "305ada65-9543-4c0a-ea24-8685f598162a"
      },
      "execution_count": 15,
      "outputs": [
        {
          "output_type": "stream",
          "name": "stdout",
          "text": [
            "enter a number513\n",
            "notdivisible \n"
          ]
        }
      ]
    },
    {
      "cell_type": "code",
      "source": [
        "# divisibility check of 6\n",
        "\n",
        "x=int(input('enter a number'))\n",
        "if x%2==0:\n",
        "  print('number divisible by 2' )\n",
        "if x%3==0:\n",
        "    print('number divisible by 3' )\n",
        "if x%2==0 & x%3==0:\n",
        "  print('divisible by 6 ' )\n",
        "else:\n",
        "  print('not divisible')"
      ],
      "metadata": {
        "colab": {
          "base_uri": "https://localhost:8080/"
        },
        "id": "Vfg-wa57m-da",
        "outputId": "c4f22eb9-ad91-40c6-fd78-fbebc0a38b85"
      },
      "execution_count": 18,
      "outputs": [
        {
          "output_type": "stream",
          "name": "stdout",
          "text": [
            "enter a number51\n",
            "number divisible by 3\n",
            "not divisible\n"
          ]
        }
      ]
    },
    {
      "cell_type": "code",
      "source": [],
      "metadata": {
        "id": "eEWA5n8kqnFU"
      },
      "execution_count": null,
      "outputs": []
    }
  ]
}